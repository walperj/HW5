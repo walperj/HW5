{
 "cells": [
  {
   "cell_type": "code",
   "execution_count": 4,
   "id": "a45858a8-1769-48a3-b4e9-3423d941aaf3",
   "metadata": {},
   "outputs": [
    {
     "name": "stdout",
     "output_type": "stream",
     "text": [
      "Rotated Sobel filter kernel for x-axis:\n",
      "tensor([[-1.,  0.,  1.],\n",
      "        [-2.,  0.,  2.],\n",
      "        [-1.,  0.,  1.]])\n",
      "\n",
      "Rotated Sobel filter kernel for y-axis:\n",
      "tensor([[-1., -2., -1.],\n",
      "        [ 0.,  0.,  0.],\n",
      "        [ 1.,  2.,  1.]])\n"
     ]
    }
   ],
   "source": [
    "# 1. Derive an Edge Detection Kernel\n",
    "import torch\n",
    "\n",
    "# Directional vector\n",
    "v1 = 2\n",
    "v2 = 3\n",
    "\n",
    "# Compute the angle between the directional vector and the x-axis\n",
    "theta = torch.atan2(torch.tensor(v2), torch.tensor(v1))\n",
    "\n",
    "# Define the Sobel filter kernels for x-axis and y-axis\n",
    "sobel_x = torch.tensor([\n",
    "    [-1, 0, 1],\n",
    "    [-2, 0, 2],\n",
    "    [-1, 0, 1]\n",
    "], dtype=torch.float)\n",
    "\n",
    "sobel_y = torch.tensor([\n",
    "    [-1, -2, -1],\n",
    "    [0, 0, 0],\n",
    "    [1, 2, 1]\n",
    "], dtype=torch.float)\n",
    "\n",
    "# Rotate the Sobel filter kernels by the computed angle\n",
    "def rotate_kernel(kernel, angle):\n",
    "    rotated_kernel = torch.rot90(kernel, -int(angle.item() / 90))\n",
    "    return rotated_kernel\n",
    "\n",
    "# Compute the rotated Sobel filter kernels\n",
    "rotated_kernel_x = rotate_kernel(sobel_x, theta)\n",
    "rotated_kernel_y = rotate_kernel(sobel_y, theta)\n",
    "\n",
    "# Print the rotated Sobel filter kernels\n",
    "print(\"Rotated Sobel filter kernel for x-axis:\")\n",
    "print(rotated_kernel_x)\n",
    "print(\"\\nRotated Sobel filter kernel for y-axis:\")\n",
    "print(rotated_kernel_y)\n"
   ]
  },
  {
   "cell_type": "code",
   "execution_count": 5,
   "id": "8fb9b730-5376-45e9-ba57-831b04917103",
   "metadata": {},
   "outputs": [
    {
     "name": "stdout",
     "output_type": "stream",
     "text": [
      "Second derivative: tensor([ 1.,  0.,  0.,  0., -1.])\n"
     ]
    }
   ],
   "source": [
    "# 2. Derive a finite difference operator for the second derivative. What is the minimum size\n",
    "# of the convolutional kernel associated with it? Which structures in images respond\n",
    "# most strongly to it?\n",
    "\n",
    "def second_derivative(input_signal, spacing):\n",
    "    \"\"\"\n",
    "    Compute the second derivative of a discrete signal using finite difference approximation.\n",
    "\n",
    "    Args:\n",
    "    - input_signal (Tensor): 1D tensor representing the input signal.\n",
    "    - spacing (float): Spacing between adjacent points.\n",
    "\n",
    "    Returns:\n",
    "    - second_derivative (Tensor): 1D tensor representing the second derivative of the input signal.\n",
    "    \"\"\"\n",
    "    # Shift the input signal to compute the differences\n",
    "    shifted_right = torch.cat([input_signal[1:], input_signal[-1].unsqueeze(0)], dim=0)\n",
    "    shifted_left = torch.cat([input_signal[0].unsqueeze(0), input_signal[:-1]], dim=0)\n",
    "\n",
    "    # Compute the second derivative using finite differences\n",
    "    second_derivative = (shifted_right - 2 * input_signal + shifted_left) / (spacing ** 2)\n",
    "    \n",
    "    return second_derivative\n",
    "\n",
    "# Example usage\n",
    "input_signal = torch.tensor([1, 2, 3, 4, 5], dtype=torch.float32)\n",
    "spacing = 1.0  # Assuming spacing between adjacent points is 1\n",
    "second_derivative_result = second_derivative(input_signal, spacing)\n",
    "print(\"Second derivative:\", second_derivative_result)\n",
    "\n",
    "\n",
    "# The minimum size of the convolutional kernel associated with it would be \n",
    "# 3×3. This is because we need at least three points to compute the second derivative using a centered finite difference scheme.\n",
    "\n",
    "# In image processing, structures that respond most strongly to the second derivative operator are edges and corners. \n",
    "# This is because the second derivative measures the rate of change of the gradient, which is high at edges and corners."
   ]
  },
  {
   "cell_type": "code",
   "execution_count": 6,
   "id": "5f3ee890-3464-4d24-9f24-ce98c7880dcc",
   "metadata": {},
   "outputs": [
    {
     "name": "stdout",
     "output_type": "stream",
     "text": [
      "Blur kernel:\n",
      "tensor([[0.0030, 0.0133, 0.0219, 0.0133, 0.0030],\n",
      "        [0.0133, 0.0596, 0.0983, 0.0596, 0.0133],\n",
      "        [0.0219, 0.0983, 0.1621, 0.0983, 0.0219],\n",
      "        [0.0133, 0.0596, 0.0983, 0.0596, 0.0133],\n",
      "        [0.0030, 0.0133, 0.0219, 0.0133, 0.0030]])\n"
     ]
    }
   ],
   "source": [
    "# 3. How would you design a blur kernel? Why might you want to use such a kernel?\n",
    "\n",
    "import torch.nn.functional as F\n",
    "import numpy as np\n",
    "\n",
    "def gaussian_kernel(kernel_size=3, sigma=1.0):\n",
    "    \"\"\"\n",
    "    Generates a 2D Gaussian kernel.\n",
    "\n",
    "    Args:\n",
    "    - kernel_size (int): Size of the kernel (should be odd).\n",
    "    - sigma (float): Standard deviation of the Gaussian distribution.\n",
    "\n",
    "    Returns:\n",
    "    - kernel (Tensor): 2D tensor representing the Gaussian kernel.\n",
    "    \"\"\"\n",
    "    # Create a 1D Gaussian kernel along the x-axis\n",
    "    kernel_1d = torch.tensor([np.exp(-(x - (kernel_size - 1) / 2) ** 2 / (2 * sigma ** 2)) for x in range(kernel_size)], dtype=torch.float32)\n",
    "    \n",
    "    # Normalize the kernel\n",
    "    kernel_1d /= torch.sum(kernel_1d)\n",
    "    \n",
    "    # Create a 2D Gaussian kernel by taking the outer product of the 1D kernel\n",
    "    kernel = torch.ger(kernel_1d, kernel_1d)\n",
    "    \n",
    "    return kernel\n",
    "\n",
    "# Example usage\n",
    "kernel_size = 5\n",
    "sigma = 1.0\n",
    "blur_kernel = gaussian_kernel(kernel_size, sigma)\n",
    "print(\"Blur kernel:\")\n",
    "print(blur_kernel)\n",
    "\n",
    "# May want to use a blurring kernel for image smoothing/blurring, image downsampling, and image deblurring."
   ]
  },
  {
   "cell_type": "code",
   "execution_count": 7,
   "id": "e501c93d-2e19-4dcf-9465-11bb144e2f45",
   "metadata": {},
   "outputs": [
    {
     "name": "stdout",
     "output_type": "stream",
     "text": [
      "Derivative kernel: tensor([ 1., -1.])\n"
     ]
    }
   ],
   "source": [
    "# 4. What is the minimum size of a kernel to obtain a derivative of order d?\n",
    "\n",
    "# For a derivative of order d, the minimum size of the kernel would be d + 1. This is because we need at least d+1 points \n",
    "# to compute a derivative of order d using finite differences.\n",
    "\n",
    "# Example Code\n",
    "\n",
    "def derivative_kernel(order):\n",
    "    \"\"\"\n",
    "    Design a kernel for computing a derivative of a given order.\n",
    "\n",
    "    Args:\n",
    "    - order (int): Order of the derivative.\n",
    "\n",
    "    Returns:\n",
    "    - kernel (Tensor): 1D tensor representing the derivative kernel.\n",
    "    \"\"\"\n",
    "    # Constructing the kernel coefficients using the binomial coefficients\n",
    "    binomial_coeffs = torch.tensor([1, -1], dtype=torch.float32)\n",
    "    kernel = binomial_coeffs\n",
    "    for i in range(1, order):\n",
    "        kernel = torch.conv1d(kernel.unsqueeze(0), binomial_coeffs.unsqueeze(0), padding=i)\n",
    "    return kernel\n",
    "\n",
    "# Example usage\n",
    "order = 1  # Example: first-order derivative\n",
    "kernel = derivative_kernel(order)\n",
    "print(\"Derivative kernel:\", kernel)\n"
   ]
  },
  {
   "cell_type": "code",
   "execution_count": null,
   "id": "e275a716-b44e-4b6c-8df2-d5a27ad23cc3",
   "metadata": {},
   "outputs": [],
   "source": []
  }
 ],
 "metadata": {
  "kernelspec": {
   "display_name": "Python 3 (ipykernel)",
   "language": "python",
   "name": "python3"
  },
  "language_info": {
   "codemirror_mode": {
    "name": "ipython",
    "version": 3
   },
   "file_extension": ".py",
   "mimetype": "text/x-python",
   "name": "python",
   "nbconvert_exporter": "python",
   "pygments_lexer": "ipython3",
   "version": "3.11.3"
  }
 },
 "nbformat": 4,
 "nbformat_minor": 5
}
